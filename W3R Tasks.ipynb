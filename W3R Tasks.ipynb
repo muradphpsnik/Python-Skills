{
 "cells": [
  {
   "cell_type": "markdown",
   "id": "indonesian-consortium",
   "metadata": {},
   "source": [
    "#     W3R Python basic tasks for practicing\n"
   ]
  },
  {
   "cell_type": "code",
   "execution_count": null,
   "id": "classical-plymouth",
   "metadata": {},
   "outputs": [],
   "source": [
    "#20\n",
    "def string_copy(string, n) :\n",
    "    result = ''\n",
    "    for i in range(n) :\n",
    "        result = result + string\n",
    "    return result\n",
    "print(string_copy('Hello', 10))\n",
    "    \n"
   ]
  },
  {
   "cell_type": "code",
   "execution_count": 5,
   "id": "covered-tanzania",
   "metadata": {},
   "outputs": [
    {
     "name": "stdout",
     "output_type": "stream",
     "text": [
      "Odd\n",
      "None\n"
     ]
    }
   ],
   "source": [
    "#21\n",
    "def even_odd(num) :\n",
    "    if num % 2 == 0 :\n",
    "        print('Even') \n",
    "    else :\n",
    "        print('Odd')\n",
    "print(even_odd(57))"
   ]
  },
  {
   "cell_type": "code",
   "execution_count": 6,
   "id": "particular-insert",
   "metadata": {},
   "outputs": [
    {
     "name": "stdout",
     "output_type": "stream",
     "text": [
      "2\n"
     ]
    }
   ],
   "source": [
    "#22\n",
    "def count_four(nums) :\n",
    "    count = 0\n",
    "    for i in nums:\n",
    "        if i == 4:\n",
    "            count += 1\n",
    "    return count\n",
    "print(count_four([1, 4, 6, 7, 4]))"
   ]
  },
  {
   "cell_type": "code",
   "execution_count": 9,
   "id": "protective-karaoke",
   "metadata": {},
   "outputs": [
    {
     "name": "stdout",
     "output_type": "stream",
     "text": [
      "HeHeHeHeHeHeHeHeHeHeHeHeHeHeHeHeHeHeHeHeHeHeHeHeHeHeHeHeHeHeHeHeHeHeHeHeHeHeHeHeHeHeHeHeHeHeHeHeHeHeHeHeHeHeHeHeHeHeHeHeHeHeHeHeHe\n"
     ]
    }
   ],
   "source": [
    "#23\n",
    "def first_two(string, n) :\n",
    "    flen = 2\n",
    "    if len(string) < flen:\n",
    "        flen = len(string)\n",
    "    substr = string[:flen]\n",
    "    result = ''\n",
    "    for i in range(n) :\n",
    "        result += substr\n",
    "    return result\n",
    "print(first_two('Hello World', 65))"
   ]
  },
  {
   "cell_type": "code",
   "execution_count": 4,
   "id": "falling-powell",
   "metadata": {},
   "outputs": [
    {
     "name": "stdout",
     "output_type": "stream",
     "text": [
      "not vowel\n",
      "None\n"
     ]
    }
   ],
   "source": [
    "#24\n",
    "def is_vowel(x) :\n",
    "    vowels = ['a','i','o','u','e']\n",
    "    if x in vowels :\n",
    "        print('Vowel')\n",
    "    else :\n",
    "        print('not vowel')\n",
    "print(is_vowel('h'))"
   ]
  },
  {
   "cell_type": "code",
   "execution_count": 8,
   "id": "regular-title",
   "metadata": {},
   "outputs": [
    {
     "name": "stdout",
     "output_type": "stream",
     "text": [
      "True\n"
     ]
    }
   ],
   "source": [
    "#25\n",
    "def find_num(array, num) :\n",
    "    if num in array :\n",
    "        return True\n",
    "    else :\n",
    "        return False\n",
    "print(find_num([5,6,7,7,8], 5))"
   ]
  },
  {
   "cell_type": "code",
   "execution_count": 10,
   "id": "sweet-enforcement",
   "metadata": {},
   "outputs": [
    {
     "name": "stdout",
     "output_type": "stream",
     "text": [
      "*****\n",
      "******\n",
      "*******\n",
      "********\n",
      "*********\n",
      "None\n"
     ]
    }
   ],
   "source": [
    "#26\n",
    "def histogram( items ):\n",
    "    for n in items:\n",
    "        output = ''\n",
    "        times = n\n",
    "        while( times > 0 ):\n",
    "          output += '*'\n",
    "          times = times - 1\n",
    "        print(output)\n",
    "print(histogram([5,6,7,8,9]))\n",
    "        "
   ]
  },
  {
   "cell_type": "code",
   "execution_count": 7,
   "id": "committed-october",
   "metadata": {},
   "outputs": [
    {
     "name": "stdout",
     "output_type": "stream",
     "text": [
      "1111\n"
     ]
    }
   ],
   "source": [
    "#27\n",
    "def list_to_str(x) :\n",
    "    string = ''\n",
    "    for i in x :\n",
    "        i = str(i)\n",
    "        string += i\n",
    "    return string\n",
    "print(list_to_str([1,1,1,1]))\n",
    "        "
   ]
  },
  {
   "cell_type": "code",
   "execution_count": 3,
   "id": "japanese-deployment",
   "metadata": {},
   "outputs": [
    {
     "name": "stdout",
     "output_type": "stream",
     "text": [
      "386\n",
      "462\n",
      "418\n",
      "344\n",
      "236\n",
      "566\n",
      "978\n",
      "328\n",
      "162\n",
      "758\n",
      "918\n"
     ]
    }
   ],
   "source": [
    "#28\n",
    "numbers = [    \n",
    "    386, 462, 47, 418, 907, 344, 236, 375, 823, 566, 597, 978, 328, 615, 953, 345, \n",
    "    399, 162, 758, 219, 918, 237, 412, 566, 826, 248, 866, 950, 626, 949, 687, 217, \n",
    "    815, 67, 104, 58, 512, 24, 892, 894, 767, 553, 81, 379, 843, 831, 445, 742, 717, \n",
    "    958,743, 527\n",
    "    ]\n",
    "for i in numbers :\n",
    "    if i % 2 == 0 :\n",
    "        print(i)\n",
    "    elif i == 237:\n",
    "        break\n"
   ]
  },
  {
   "cell_type": "code",
   "execution_count": 4,
   "id": "bigger-chess",
   "metadata": {},
   "outputs": [
    {
     "name": "stdout",
     "output_type": "stream",
     "text": [
      "Original set elements:\n",
      "{'White', 'Red', 'Black'}\n",
      "{'Red', 'Green'}\n",
      "\n",
      "Differenct of color_list_1 and color_list_2:\n",
      "{'White', 'Black'}\n",
      "\n",
      "Differenct of color_list_2 and color_list_1:\n",
      "{'Green'}\n"
     ]
    }
   ],
   "source": [
    "#29\n",
    "color_list_1 = set([\"White\", \"Black\", \"Red\"])\n",
    "color_list_2 = set([\"Red\", \"Green\"])\n",
    "print(\"Original set elements:\")\n",
    "print(color_list_1)\n",
    "print(color_list_2)\n",
    "print(\"\\nDifferenct of color_list_1 and color_list_2:\")\n",
    "print(color_list_1.difference(color_list_2))\n",
    "print(\"\\nDifferenct of color_list_2 and color_list_1:\")\n",
    "print(color_list_2.difference(color_list_1))"
   ]
  },
  {
   "cell_type": "code",
   "execution_count": 6,
   "id": "abstract-middle",
   "metadata": {},
   "outputs": [
    {
     "name": "stdout",
     "output_type": "stream",
     "text": [
      "15.0\n"
     ]
    }
   ],
   "source": [
    "#30\n",
    "def triangle_area(h, b) :\n",
    "    return 0.5 * b * h\n",
    "print(triangle_area(5,6))"
   ]
  },
  {
   "cell_type": "code",
   "execution_count": 9,
   "id": "lucky-religious",
   "metadata": {},
   "outputs": [
    {
     "name": "stdout",
     "output_type": "stream",
     "text": [
      "0\n"
     ]
    }
   ],
   "source": [
    "#33\n",
    "def sum_int(x,y,z) :\n",
    "    sum = 0\n",
    "    if x == y or y == z or x == z :\n",
    "        return sum\n",
    "    else :\n",
    "        return x + y + z\n",
    "print(sum_int(5,5,8))\n"
   ]
  },
  {
   "cell_type": "code",
   "execution_count": 11,
   "id": "commercial-south",
   "metadata": {},
   "outputs": [
    {
     "name": "stdout",
     "output_type": "stream",
     "text": [
      "20\n"
     ]
    }
   ],
   "source": [
    "#34\n",
    "def sum_int(x,y) :\n",
    "    sum = x + y\n",
    "    if sum >= 15 and sum <= 20:\n",
    "        return 20\n",
    "    else :\n",
    "        return sum\n",
    "print(sum_int(6,9))"
   ]
  },
  {
   "cell_type": "code",
   "execution_count": null,
   "id": "close-softball",
   "metadata": {},
   "outputs": [],
   "source": []
  }
 ],
 "metadata": {
  "kernelspec": {
   "display_name": "Python 3",
   "language": "python",
   "name": "python3"
  },
  "language_info": {
   "codemirror_mode": {
    "name": "ipython",
    "version": 3
   },
   "file_extension": ".py",
   "mimetype": "text/x-python",
   "name": "python",
   "nbconvert_exporter": "python",
   "pygments_lexer": "ipython3",
   "version": "3.9.1"
  }
 },
 "nbformat": 4,
 "nbformat_minor": 5
}
